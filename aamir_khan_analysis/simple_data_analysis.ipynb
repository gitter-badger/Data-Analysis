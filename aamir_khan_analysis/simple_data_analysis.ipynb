{
 "metadata": {
  "name": "",
  "signature": "sha256:37de74d45717526bd2826faaf5ee0d3de4f879d0eba83e54bea4df59ed3b8228"
 },
 "nbformat": 3,
 "nbformat_minor": 0,
 "worksheets": []
}