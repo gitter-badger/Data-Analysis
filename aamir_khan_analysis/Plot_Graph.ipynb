{
 "metadata": {
  "name": "",
  "signature": "sha256:a55195baa3043d6d7f9bd862eb52a7b55556046828b9824bd925e0391de2b755"
 },
 "nbformat": 3,
 "nbformat_minor": 0,
 "worksheets": [
  {
   "cells": [
    {
     "cell_type": "code",
     "collapsed": false,
     "input": [
      "import pandas as pd\n",
      "import numpy as np\n",
      "import matplotlib.pyplot as plt\n",
      "\n",
      "CSV_FILE_PATH = \"/home/yogesh/Coursera/DataScience/aamir_khan_analysis/aamir_movie_imdb.csv\"\n",
      "\n",
      "def read_csv():\n",
      "    movie_file = pd.read_csv(CSV_FILE_PATH)\n",
      "    return movie_file\n",
      "\n",
      "def process_csv(pandas_csv_obj):\n",
      "    data_tuple_list = []\n",
      "    year_data = pandas_csv_obj.groupby(\"Year\")\n",
      "    for name, group in year_data:\n",
      "        #data_dict[name] = [group[\"Name\"].count()]\n",
      "        hit_count = 0\n",
      "        for rating in group.Rating:\n",
      "            if rating >= 7.0:\n",
      "                hit_count += 1\n",
      "        data_tuple = (name, group[\"Name\"].count(), hit_count)\n",
      "        data_tuple_list.append(data_tuple)\n",
      "    return data_tuple_list\n",
      "\n",
      "def plot_graph(data_tuple_list):\n",
      "    d = pd.DataFrame(data_tuple_list, columns=[\"Year\", \"Count\", \"Hits\"])\n",
      "    #print d.head()\n",
      "    d.plot(kind=\"bar\", x=\"Year\", y=\"Count\")\n",
      "    #plt.show()\n",
      "    #print l.describe()\n",
      "    return\n",
      "\n",
      "def start():\n",
      "    movie_file = read_csv()\n",
      "    data_tuple_list = process_csv(movie_file)\n",
      "    return data_tuple_list\n",
      "    #plot_graph(data_tuple_list)"
     ],
     "language": "python",
     "metadata": {},
     "outputs": [],
     "prompt_number": 5
    },
    {
     "cell_type": "code",
     "collapsed": false,
     "input": [
      "tuple_list = start()"
     ],
     "language": "python",
     "metadata": {},
     "outputs": [],
     "prompt_number": 6
    },
    {
     "cell_type": "code",
     "collapsed": false,
     "input": [
      "tuple_list"
     ],
     "language": "python",
     "metadata": {},
     "outputs": [
      {
       "metadata": {},
       "output_type": "pyout",
       "prompt_number": 7,
       "text": [
        "[(1973, 1, 1),\n",
        " (1974, 1, 0),\n",
        " (1985, 1, 1),\n",
        " (1988, 1, 1),\n",
        " (1989, 2, 1),\n",
        " (1990, 5, 0),\n",
        " (1991, 2, 1),\n",
        " (1992, 4, 1),\n",
        " (1993, 1, 1),\n",
        " (1994, 1, 1),\n",
        " (1995, 4, 2),\n",
        " (1996, 1, 0),\n",
        " (1997, 1, 0),\n",
        " (1998, 2, 2),\n",
        " (1999, 2, 1),\n",
        " (2000, 1, 0),\n",
        " (2001, 2, 2),\n",
        " (2005, 1, 0),\n",
        " (2006, 2, 2),\n",
        " (2007, 1, 1),\n",
        " (2008, 1, 1),\n",
        " (2009, 1, 1),\n",
        " (2010, 1, 1),\n",
        " (2012, 1, 1),\n",
        " (2013, 1, 0)]"
       ]
      }
     ],
     "prompt_number": 7
    },
    {
     "cell_type": "code",
     "collapsed": false,
     "input": [
      "movie_data = pd.DataFrame(tuple_list)"
     ],
     "language": "python",
     "metadata": {},
     "outputs": [],
     "prompt_number": 14
    },
    {
     "cell_type": "code",
     "collapsed": false,
     "input": [
      "year_groups = movie_data.groupby(0)"
     ],
     "language": "python",
     "metadata": {},
     "outputs": [],
     "prompt_number": 22
    },
    {
     "cell_type": "code",
     "collapsed": false,
     "input": [
      "year_groups.count().plot(kind='bar')"
     ],
     "language": "python",
     "metadata": {},
     "outputs": [
      {
       "metadata": {},
       "output_type": "pyout",
       "prompt_number": 25,
       "text": [
        "<matplotlib.axes._subplots.AxesSubplot at 0x7f72b0135310>"
       ]
      },
      {
       "metadata": {},
       "output_type": "display_data",
       "png": "[encoded data removed]",
       "text": [
        "<matplotlib.figure.Figure at 0x7f72b0969f10>"
       ]
      }
     ],
     "prompt_number": 25
    },
    {
     "cell_type": "code",
     "collapsed": false,
     "input": [],
     "language": "python",
     "metadata": {},
     "outputs": []
    }
   ],
   "metadata": {}
  }
 ]
}