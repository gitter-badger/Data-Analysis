{
 "metadata": {
  "name": "",
  "signature": "sha256:c4eb645d41b71fccb2ccd2fc28823d41c05b4014aca0b88f65f893a401e2c94a"
 },
 "nbformat": 3,
 "nbformat_minor": 0,
 "worksheets": [
  {
   "cells": [
    {
     "cell_type": "code",
     "collapsed": false,
     "input": [
      "import pandas as pd"
     ],
     "language": "python",
     "metadata": {},
     "outputs": [],
     "prompt_number": 1
    },
    {
     "cell_type": "code",
     "collapsed": false,
     "input": [
      "normals = pd.Series(np.random.normal(size=10))"
     ],
     "language": "python",
     "metadata": {},
     "outputs": [],
     "prompt_number": 2
    },
    {
     "cell_type": "code",
     "collapsed": false,
     "input": [
      "import numpy as np"
     ],
     "language": "python",
     "metadata": {},
     "outputs": [],
     "prompt_number": 3
    },
    {
     "cell_type": "code",
     "collapsed": false,
     "input": [
      "k = normals.plot()"
     ],
     "language": "python",
     "metadata": {},
     "outputs": [
      {
       "ename": "NameError",
       "evalue": "name 'normals' is not defined",
       "output_type": "pyerr",
       "traceback": [
        "\u001b[1;31m---------------------------------------------------------------------------\u001b[0m\n\u001b[1;31mNameError\u001b[0m                                 Traceback (most recent call last)",
        "\u001b[1;32m<ipython-input-4-08e1ffe6343a>\u001b[0m in \u001b[0;36m<module>\u001b[1;34m()\u001b[0m\n\u001b[1;32m----> 1\u001b[1;33m \u001b[0mk\u001b[0m \u001b[1;33m=\u001b[0m \u001b[0mnormals\u001b[0m\u001b[1;33m.\u001b[0m\u001b[0mplot\u001b[0m\u001b[1;33m(\u001b[0m\u001b[1;33m)\u001b[0m\u001b[1;33m\u001b[0m\u001b[0m\n\u001b[0m",
        "\u001b[1;31mNameError\u001b[0m: name 'normals' is not defined"
       ]
      }
     ],
     "prompt_number": 4
    },
    {
     "cell_type": "code",
     "collapsed": false,
     "input": [
      "movie_file = pd.read_csv(\"/home/yogesh/Coursera/DataScience/aamir_khan_analysis/aamir_movie_imdb.csv\")"
     ],
     "language": "python",
     "metadata": {},
     "outputs": [],
     "prompt_number": 4
    },
    {
     "cell_type": "code",
     "collapsed": false,
     "input": [
      "movie_file.head()"
     ],
     "language": "python",
     "metadata": {},
     "outputs": [
      {
       "html": [
        "<div style=\"max-height:1000px;max-width:1500px;overflow:auto;\">\n",
        "<table border=\"1\" class=\"dataframe\">\n",
        "  <thead>\n",
        "    <tr style=\"text-align: right;\">\n",
        "      <th></th>\n",
        "      <th>Name</th>\n",
        "      <th>Year</th>\n",
        "      <th>Rating</th>\n",
        "    </tr>\n",
        "  </thead>\n",
        "  <tbody>\n",
        "    <tr>\n",
        "      <th>0</th>\n",
        "      <td>                    Dhoom: 3</td>\n",
        "      <td> 2013</td>\n",
        "      <td> 5.7</td>\n",
        "    </tr>\n",
        "    <tr>\n",
        "      <th>1</th>\n",
        "      <td>                     Talaash</td>\n",
        "      <td> 2012</td>\n",
        "      <td> 7.4</td>\n",
        "    </tr>\n",
        "    <tr>\n",
        "      <th>2</th>\n",
        "      <td> Dhobi Ghat (Mumbai Diaries)</td>\n",
        "      <td> 2010</td>\n",
        "      <td> 7.2</td>\n",
        "    </tr>\n",
        "    <tr>\n",
        "      <th>3</th>\n",
        "      <td>                    3 Idiots</td>\n",
        "      <td> 2009</td>\n",
        "      <td> 8.5</td>\n",
        "    </tr>\n",
        "    <tr>\n",
        "      <th>4</th>\n",
        "      <td>                     Ghajini</td>\n",
        "      <td> 2008</td>\n",
        "      <td> 7.3</td>\n",
        "    </tr>\n",
        "  </tbody>\n",
        "</table>\n",
        "</div>"
       ],
       "metadata": {},
       "output_type": "pyout",
       "prompt_number": 5,
       "text": [
        "                          Name  Year  Rating\n",
        "0                     Dhoom: 3  2013     5.7\n",
        "1                      Talaash  2012     7.4\n",
        "2  Dhobi Ghat (Mumbai Diaries)  2010     7.2\n",
        "3                     3 Idiots  2009     8.5\n",
        "4                      Ghajini  2008     7.3"
       ]
      }
     ],
     "prompt_number": 5
    },
    {
     "cell_type": "code",
     "collapsed": false,
     "input": [
      "j = movie_file.groupby(\"Year\")\n",
      "j.count().plot(kind='bar')"
     ],
     "language": "python",
     "metadata": {},
     "outputs": [
      {
       "metadata": {},
       "output_type": "pyout",
       "prompt_number": 11,
       "text": [
        "<matplotlib.axes._subplots.AxesSubplot at 0x7f1788202150>"
       ]
      },
      {
       "metadata": {},
       "output_type": "display_data",
       "png": "[encoded data removed]",
       "text": [
        "<matplotlib.figure.Figure at 0x7f1788202c50>"
       ]
      }
     ],
     "prompt_number": 11
    },
    {
     "cell_type": "code",
     "collapsed": false,
     "input": [
      "print j.describe()"
     ],
     "language": "python",
     "metadata": {},
     "outputs": [
      {
       "output_type": "stream",
       "stream": "stdout",
       "text": [
        "            Rating\n",
        "Year              \n",
        "1973 count     1.0\n",
        "     mean      7.4\n",
        "     std       NaN\n",
        "     min       7.4\n",
        "     25%       7.4\n",
        "     50%       7.4\n",
        "     75%       7.4\n",
        "     max       7.4\n",
        "1974 count     1.0\n",
        "     mean      6.4\n",
        "     std       NaN\n",
        "     min       6.4\n",
        "     25%       6.4\n",
        "     50%       6.4\n",
        "     75%       6.4\n",
        "     max       6.4\n",
        "1985 count     1.0\n",
        "     mean      7.6\n",
        "     std       NaN\n",
        "     min       7.6\n",
        "     25%       7.6\n",
        "     50%       7.6\n",
        "     75%       7.6\n",
        "     max       7.6\n",
        "1988 count     1.0\n",
        "     mean      7.7\n",
        "     std       NaN\n",
        "     min       7.7\n",
        "     25%       7.7\n",
        "     50%       7.7\n",
        "...            ...\n",
        "2009 std       NaN\n",
        "     min       8.5\n",
        "     25%       8.5\n",
        "     50%       8.5\n",
        "     75%       8.5\n",
        "     max       8.5\n",
        "2010 count     1.0\n",
        "     mean      7.2\n",
        "     std       NaN\n",
        "     min       7.2\n",
        "     25%       7.2\n",
        "     50%       7.2\n",
        "     75%       7.2\n",
        "     max       7.2\n",
        "2012 count     1.0\n",
        "     mean      7.4\n",
        "     std       NaN\n",
        "     min       7.4\n",
        "     25%       7.4\n",
        "     50%       7.4\n",
        "     75%       7.4\n",
        "     max       7.4\n",
        "2013 count     1.0\n",
        "     mean      5.7\n",
        "     std       NaN\n",
        "     min       5.7\n",
        "     25%       5.7\n",
        "     50%       5.7\n",
        "     75%       5.7\n",
        "     max       5.7\n",
        "\n",
        "[200 rows x 1 columns]\n"
       ]
      }
     ],
     "prompt_number": 29
    },
    {
     "cell_type": "code",
     "collapsed": false,
     "input": [
      "j[\"Movie Name\"].count()"
     ],
     "language": "python",
     "metadata": {},
     "outputs": [
      {
       "metadata": {},
       "output_type": "pyout",
       "prompt_number": 40,
       "text": [
        "Release year\n",
        "2013            1\n",
        "2014            1\n",
        "Name: Movie Name, dtype: int64"
       ]
      }
     ],
     "prompt_number": 40
    },
    {
     "cell_type": "code",
     "collapsed": false,
     "input": [
      "j.count()"
     ],
     "language": "python",
     "metadata": {},
     "outputs": [
      {
       "ename": "SpecificationError",
       "evalue": "len(index) != len(labels)",
       "output_type": "pyerr",
       "traceback": [
        "\u001b[1;31m---------------------------------------------------------------------------\u001b[0m\n\u001b[1;31mSpecificationError\u001b[0m                        Traceback (most recent call last)",
        "\u001b[1;32m<ipython-input-27-65da8deac4c1>\u001b[0m in \u001b[0;36m<module>\u001b[1;34m()\u001b[0m\n\u001b[1;32m----> 1\u001b[1;33m \u001b[0mj\u001b[0m\u001b[1;33m.\u001b[0m\u001b[0mcount\u001b[0m\u001b[1;33m(\u001b[0m\u001b[1;33m)\u001b[0m\u001b[1;33m\u001b[0m\u001b[0m\n\u001b[0m",
        "\u001b[1;32m/home/yogesh/Coursera/Kaggle/data_analysis/local/lib/python2.7/site-packages/pandas/core/groupby.pyc\u001b[0m in \u001b[0;36mcount\u001b[1;34m(self, axis)\u001b[0m\n\u001b[0;32m    740\u001b[0m \u001b[1;33m\u001b[0m\u001b[0m\n\u001b[0;32m    741\u001b[0m     \u001b[1;32mdef\u001b[0m \u001b[0mcount\u001b[0m\u001b[1;33m(\u001b[0m\u001b[0mself\u001b[0m\u001b[1;33m,\u001b[0m \u001b[0maxis\u001b[0m\u001b[1;33m=\u001b[0m\u001b[1;36m0\u001b[0m\u001b[1;33m)\u001b[0m\u001b[1;33m:\u001b[0m\u001b[1;33m\u001b[0m\u001b[0m\n\u001b[1;32m--> 742\u001b[1;33m         \u001b[1;32mreturn\u001b[0m \u001b[0mself\u001b[0m\u001b[1;33m.\u001b[0m\u001b[0m_count\u001b[0m\u001b[1;33m(\u001b[0m\u001b[1;33m)\u001b[0m\u001b[1;33m.\u001b[0m\u001b[0mastype\u001b[0m\u001b[1;33m(\u001b[0m\u001b[1;34m'int64'\u001b[0m\u001b[1;33m)\u001b[0m\u001b[1;33m\u001b[0m\u001b[0m\n\u001b[0m\u001b[0;32m    743\u001b[0m \u001b[1;33m\u001b[0m\u001b[0m\n\u001b[0;32m    744\u001b[0m     \u001b[1;32mdef\u001b[0m \u001b[0mohlc\u001b[0m\u001b[1;33m(\u001b[0m\u001b[0mself\u001b[0m\u001b[1;33m)\u001b[0m\u001b[1;33m:\u001b[0m\u001b[1;33m\u001b[0m\u001b[0m\n",
        "\u001b[1;32m/home/yogesh/Coursera/Kaggle/data_analysis/local/lib/python2.7/site-packages/pandas/core/groupby.pyc\u001b[0m in \u001b[0;36mf\u001b[1;34m(self)\u001b[0m\n\u001b[0;32m    106\u001b[0m             \u001b[1;32mreturn\u001b[0m \u001b[0mself\u001b[0m\u001b[1;33m.\u001b[0m\u001b[0m_cython_agg_general\u001b[0m\u001b[1;33m(\u001b[0m\u001b[0malias\u001b[0m\u001b[1;33m,\u001b[0m \u001b[0mnumeric_only\u001b[0m\u001b[1;33m=\u001b[0m\u001b[0mnumeric_only\u001b[0m\u001b[1;33m)\u001b[0m\u001b[1;33m\u001b[0m\u001b[0m\n\u001b[0;32m    107\u001b[0m         \u001b[1;32mexcept\u001b[0m \u001b[0mAssertionError\u001b[0m \u001b[1;32mas\u001b[0m \u001b[0me\u001b[0m\u001b[1;33m:\u001b[0m\u001b[1;33m\u001b[0m\u001b[0m\n\u001b[1;32m--> 108\u001b[1;33m             \u001b[1;32mraise\u001b[0m \u001b[0mSpecificationError\u001b[0m\u001b[1;33m(\u001b[0m\u001b[0mstr\u001b[0m\u001b[1;33m(\u001b[0m\u001b[0me\u001b[0m\u001b[1;33m)\u001b[0m\u001b[1;33m)\u001b[0m\u001b[1;33m\u001b[0m\u001b[0m\n\u001b[0m\u001b[0;32m    109\u001b[0m         \u001b[1;32mexcept\u001b[0m \u001b[0mException\u001b[0m\u001b[1;33m:\u001b[0m\u001b[1;33m\u001b[0m\u001b[0m\n\u001b[0;32m    110\u001b[0m             \u001b[0mresult\u001b[0m \u001b[1;33m=\u001b[0m \u001b[0mself\u001b[0m\u001b[1;33m.\u001b[0m\u001b[0maggregate\u001b[0m\u001b[1;33m(\u001b[0m\u001b[1;32mlambda\u001b[0m \u001b[0mx\u001b[0m\u001b[1;33m:\u001b[0m \u001b[0mnpfunc\u001b[0m\u001b[1;33m(\u001b[0m\u001b[0mx\u001b[0m\u001b[1;33m,\u001b[0m \u001b[0maxis\u001b[0m\u001b[1;33m=\u001b[0m\u001b[0mself\u001b[0m\u001b[1;33m.\u001b[0m\u001b[0maxis\u001b[0m\u001b[1;33m)\u001b[0m\u001b[1;33m)\u001b[0m\u001b[1;33m\u001b[0m\u001b[0m\n",
        "\u001b[1;31mSpecificationError\u001b[0m: len(index) != len(labels)"
       ]
      }
     ],
     "prompt_number": 27
    },
    {
     "cell_type": "code",
     "collapsed": false,
     "input": [
      "j.describe()"
     ],
     "language": "python",
     "metadata": {},
     "outputs": [
      {
       "html": [
        "<div style=\"max-height:1000px;max-width:1500px;overflow:auto;\">\n",
        "<table border=\"1\" class=\"dataframe\">\n",
        "  <thead>\n",
        "    <tr style=\"text-align: right;\">\n",
        "      <th></th>\n",
        "      <th></th>\n",
        "      <th>Description</th>\n",
        "      <th>Movie Name</th>\n",
        "    </tr>\n",
        "    <tr>\n",
        "      <th>Release year</th>\n",
        "      <th></th>\n",
        "      <th></th>\n",
        "      <th></th>\n",
        "    </tr>\n",
        "  </thead>\n",
        "  <tbody>\n",
        "    <tr>\n",
        "      <th rowspan=\"4\" valign=\"top\">2013</th>\n",
        "      <th>count</th>\n",
        "      <td>             1</td>\n",
        "      <td>       1</td>\n",
        "    </tr>\n",
        "    <tr>\n",
        "      <th>unique</th>\n",
        "      <td>             1</td>\n",
        "      <td>       1</td>\n",
        "    </tr>\n",
        "    <tr>\n",
        "      <th>top</th>\n",
        "      <td>    Worst role</td>\n",
        "      <td> Dhoom 3</td>\n",
        "    </tr>\n",
        "    <tr>\n",
        "      <th>freq</th>\n",
        "      <td>             1</td>\n",
        "      <td>       1</td>\n",
        "    </tr>\n",
        "    <tr>\n",
        "      <th rowspan=\"4\" valign=\"top\">2014</th>\n",
        "      <th>count</th>\n",
        "      <td>             1</td>\n",
        "      <td>       1</td>\n",
        "    </tr>\n",
        "    <tr>\n",
        "      <th>unique</th>\n",
        "      <td>             1</td>\n",
        "      <td>       1</td>\n",
        "    </tr>\n",
        "    <tr>\n",
        "      <th>top</th>\n",
        "      <td> Toughest Role</td>\n",
        "      <td>      PK</td>\n",
        "    </tr>\n",
        "    <tr>\n",
        "      <th>freq</th>\n",
        "      <td>             1</td>\n",
        "      <td>       1</td>\n",
        "    </tr>\n",
        "  </tbody>\n",
        "</table>\n",
        "</div>"
       ],
       "metadata": {},
       "output_type": "pyout",
       "prompt_number": 14,
       "text": [
        "                       Description Movie Name\n",
        "Release year                                 \n",
        "2013         count               1          1\n",
        "             unique              1          1\n",
        "             top        Worst role    Dhoom 3\n",
        "             freq                1          1\n",
        "2014         count               1          1\n",
        "             unique              1          1\n",
        "             top     Toughest Role         PK\n",
        "             freq                1          1"
       ]
      }
     ],
     "prompt_number": 14
    },
    {
     "cell_type": "code",
     "collapsed": false,
     "input": [
      "j.ngroups"
     ],
     "language": "python",
     "metadata": {},
     "outputs": [
      {
       "metadata": {},
       "output_type": "pyout",
       "prompt_number": 15,
       "text": [
        "2"
       ]
      }
     ],
     "prompt_number": 15
    },
    {
     "cell_type": "code",
     "collapsed": false,
     "input": [],
     "language": "python",
     "metadata": {},
     "outputs": [
      {
       "output_type": "stream",
       "stream": "stderr",
       "text": [
        "/home/yogesh/Coursera/Kaggle/data_analysis/local/lib/python2.7/site-packages/pandas/tools/plotting.py:2380: FutureWarning: \n",
        "The default value for 'return_type' will change to 'axes' in a future release.\n",
        " To use the future behavior now, set return_type='axes'.\n",
        " To keep the previous behavior and silence this warning, set return_type='dict'.\n",
        "  warnings.warn(msg, FutureWarning)\n"
       ]
      },
      {
       "metadata": {},
       "output_type": "pyout",
       "prompt_number": 16,
       "text": [
        "OrderedDict([(2013, {'boxes': [<matplotlib.lines.Line2D object at 0x7f1569522290>], 'fliers': [<matplotlib.lines.Line2D object at 0x7f15694e0750>], 'medians': [<matplotlib.lines.Line2D object at 0x7f15694e0110>], 'means': [], 'whiskers': [<matplotlib.lines.Line2D object at 0x7f156958f9d0>, <matplotlib.lines.Line2D object at 0x7f156958f790>], 'caps': [<matplotlib.lines.Line2D object at 0x7f1569588350>, <matplotlib.lines.Line2D object at 0x7f1569554a90>]}), (2014, {'boxes': [<matplotlib.lines.Line2D object at 0x7f15694e9610>], 'fliers': [<matplotlib.lines.Line2D object at 0x7f15695008d0>], 'medians': [<matplotlib.lines.Line2D object at 0x7f1569500290>], 'means': [], 'whiskers': [<matplotlib.lines.Line2D object at 0x7f15694e9890>, <matplotlib.lines.Line2D object at 0x7f15694e9f50>], 'caps': [<matplotlib.lines.Line2D object at 0x7f15694f35d0>, <matplotlib.lines.Line2D object at 0x7f15694f3c10>]})])"
       ]
      },
      {
       "metadata": {},
       "output_type": "display_data",
       "png": "[encoded data removed]",
       "text": [
        "<matplotlib.figure.Figure at 0x7f15696d8e50>"
       ]
      }
     ],
     "prompt_number": 16
    },
    {
     "cell_type": "code",
     "collapsed": false,
     "input": [
      "j.count(\"*\")"
     ],
     "language": "python",
     "metadata": {},
     "outputs": [
      {
       "html": [
        "<div style=\"max-height:1000px;max-width:1500px;overflow:auto;\">\n",
        "<table border=\"1\" class=\"dataframe\">\n",
        "  <thead>\n",
        "    <tr style=\"text-align: right;\">\n",
        "      <th></th>\n",
        "      <th>Movie Name</th>\n",
        "      <th>Description</th>\n",
        "    </tr>\n",
        "    <tr>\n",
        "      <th>Release year</th>\n",
        "      <th></th>\n",
        "      <th></th>\n",
        "    </tr>\n",
        "  </thead>\n",
        "  <tbody>\n",
        "    <tr>\n",
        "      <th>2013</th>\n",
        "      <td> 1</td>\n",
        "      <td> 1</td>\n",
        "    </tr>\n",
        "    <tr>\n",
        "      <th>2014</th>\n",
        "      <td> 1</td>\n",
        "      <td> 1</td>\n",
        "    </tr>\n",
        "  </tbody>\n",
        "</table>\n",
        "</div>"
       ],
       "metadata": {},
       "output_type": "pyout",
       "prompt_number": 24,
       "text": [
        "              Movie Name  Description\n",
        "Release year                         \n",
        "2013                   1            1\n",
        "2014                   1            1"
       ]
      }
     ],
     "prompt_number": 24
    },
    {
     "cell_type": "code",
     "collapsed": false,
     "input": [
      "j.cumsum()"
     ],
     "language": "python",
     "metadata": {},
     "outputs": [
      {
       "html": [
        "<div style=\"max-height:1000px;max-width:1500px;overflow:auto;\">\n",
        "<table border=\"1\" class=\"dataframe\">\n",
        "  <thead>\n",
        "    <tr style=\"text-align: right;\">\n",
        "      <th></th>\n",
        "      <th>Description</th>\n",
        "      <th>Movie Name</th>\n",
        "    </tr>\n",
        "  </thead>\n",
        "  <tbody>\n",
        "    <tr>\n",
        "      <th>0</th>\n",
        "      <td> Toughest Role</td>\n",
        "      <td>      PK</td>\n",
        "    </tr>\n",
        "    <tr>\n",
        "      <th>1</th>\n",
        "      <td>    Worst role</td>\n",
        "      <td> Dhoom 3</td>\n",
        "    </tr>\n",
        "  </tbody>\n",
        "</table>\n",
        "</div>"
       ],
       "metadata": {},
       "output_type": "pyout",
       "prompt_number": 23,
       "text": [
        "     Description Movie Name\n",
        "0  Toughest Role         PK\n",
        "1     Worst role    Dhoom 3"
       ]
      }
     ],
     "prompt_number": 23
    },
    {
     "cell_type": "code",
     "collapsed": false,
     "input": [],
     "language": "python",
     "metadata": {},
     "outputs": []
    }
   ],
   "metadata": {}
  }
 ]
}